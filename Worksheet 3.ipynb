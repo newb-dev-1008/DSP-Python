{
 "cells": [
  {
   "cell_type": "code",
   "execution_count": 20,
   "metadata": {
    "collapsed": false
   },
   "outputs": [
    {
     "data": {
      "image/png": "[encoded data removed]",
      "text/plain": [
       "<matplotlib.figure.Figure at 0x2d2a19630b8>"
      ]
     },
     "metadata": {},
     "output_type": "display_data"
    },
    {
     "data": {
      "image/png": "[encoded data removed]",
      "text/plain": [
       "<matplotlib.figure.Figure at 0x2d2a1aa6b38>"
      ]
     },
     "metadata": {},
     "output_type": "display_data"
    },
    {
     "data": {
      "image/png": "[encoded data removed]",
      "text/plain": [
       "<matplotlib.figure.Figure at 0x2d2a1b277b8>"
      ]
     },
     "metadata": {},
     "output_type": "display_data"
    },
    {
     "data": {
      "image/png": "[encoded data removed]",
      "text/plain": [
       "<matplotlib.figure.Figure at 0x2d2a1945588>"
      ]
     },
     "metadata": {},
     "output_type": "display_data"
    }
   ],
   "source": [
    "import matplotlib.pyplot as plt\n",
    "from math import *\n",
    "import numpy as np\n",
    "\n",
    "n = np.arange(0, 7, 1)\n",
    "x = [1 for i in n]\n",
    "\n",
    "N1 = 8\n",
    "N2 = 16\n",
    "N3 = 64\n",
    "\n",
    "k1 = np.arange(0, N1, 1)\n",
    "X1 = np.fft.fft(x, N1) \n",
    "k2 = np.arange(0, N2, 1)\n",
    "X2 = np.fft.fft(x, N2)\n",
    "k3 = np.arange(0, N3, 1)\n",
    "X3 = np.fft.fft(x, N3)\n",
    "\n",
    "plt.figure(figsize = [15,7.5])\n",
    "plt.subplot(511)\n",
    "plt.stem(n, x)\n",
    "plt.title('Given Signal')\n",
    "plt.xlabel('n')\n",
    "plt.ylabel('x[n]')\n",
    "plt.grid()\n",
    "plt.show()\n",
    "\n",
    "plt.figure(figsize = [15,7.5])\n",
    "plt.subplot(512)\n",
    "plt.stem(k1, abs(X1))\n",
    "plt.title('Magnitude Spectrum |X1[k1]|')\n",
    "plt.xlabel('k1')\n",
    "plt.ylabel('abs(X1[k1])')\n",
    "plt.grid()\n",
    "plt.show()\n",
    "\n",
    "plt.figure(figsize = [15,7.5])\n",
    "plt.subplot(513)\n",
    "plt.stem(k2, abs(X2))\n",
    "plt.title('Magnitude Spectrum |X2[k2]|')\n",
    "plt.xlabel('k2')\n",
    "plt.ylabel('abs(X2[k2])')\n",
    "plt.grid()\n",
    "plt.show()\n",
    "\n",
    "plt.figure(figsize = [15,7.5])\n",
    "plt.subplot(514)\n",
    "plt.stem(k3, abs(X3))\n",
    "plt.title('Magnitude Spectrum |X3[k3]|')\n",
    "plt.xlabel('k3')\n",
    "plt.ylabel('abs(X3[k3])')\n",
    "plt.grid()\n",
    "plt.show()\n"
   ]
  },
  {
   "cell_type": "code",
   "execution_count": 28,
   "metadata": {
    "collapsed": false
   },
   "outputs": [
    {
     "name": "stdout",
     "output_type": "stream",
     "text": [
      "X1[k]:\n",
      "\n",
      "\t [ 10.00000000+0.j          -0.41421356-7.24264069j  -2.00000000+2.j\n",
      "   2.41421356-1.24264069j  -2.00000000+0.j           2.41421356+1.24264069j\n",
      "  -2.00000000-2.j          -0.41421356+7.24264069j] \n",
      "\n",
      " x1[n] = x[n]:\n",
      "\n",
      "\t [  1.00000000e+00   2.00000000e+00   3.00000000e+00   4.00000000e+00\n",
      "   0.00000000e+00   1.31416017e-15   1.19348975e-15   1.27075293e-15] \n",
      "\n",
      "X2[k]:\n",
      "\n",
      "\t [ 3.+0.j -1.+0.j] \n",
      "\n",
      " x2[n] = x[n]:\n",
      "\n",
      "\t [ 1.+0.j  2.+0.j]\n"
     ]
    }
   ],
   "source": [
    "import matplotlib.pyplot as plt\n",
    "from math import *\n",
    "import numpy as np\n",
    "\n",
    "n = np.arange(0, 7, 1)\n",
    "x = [1, 2, 3, 4, 0, 0, 0, 0]\n",
    "N1 = 8\n",
    "\n",
    "X1 = np.fft.fft(x, N1)\n",
    "x1 = np.fft.ifft(X1, N1)\n",
    "\n",
    "print(\"X1[k]:\\n\\n\\t\",X1,\"\\n\\n\",\"x1[n] = x[n]:\\n\\n\\t\",abs(x1),\"\\n\")\n",
    "\n",
    "N2 = 2\n",
    "\n",
    "X2 = np.fft.fft(x, N2)\n",
    "x2 = np.fft.ifft(X2, N2)\n",
    "\n",
    "print(\"X2[k]:\\n\\n\\t\",X2,\"\\n\\n\",\"x2[n] = x[n]:\\n\\n\\t\",x2)"
   ]
  },
  {
   "cell_type": "code",
   "execution_count": null,
   "metadata": {
    "collapsed": true
   },
   "outputs": [],
   "source": []
  }
 ],
 "metadata": {
  "kernelspec": {
   "display_name": "Python 3",
   "language": "python",
   "name": "python3"
  },
  "language_info": {
   "codemirror_mode": {
    "name": "ipython",
    "version": 3
   },
   "file_extension": ".py",
   "mimetype": "text/x-python",
   "name": "python",
   "nbconvert_exporter": "python",
   "pygments_lexer": "ipython3",
   "version": "3.5.2"
  }
 },
 "nbformat": 4,
 "nbformat_minor": 2
}
