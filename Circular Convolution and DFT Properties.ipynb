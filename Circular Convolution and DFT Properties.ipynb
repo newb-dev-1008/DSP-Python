{
  "nbformat": 4,
  "nbformat_minor": 0,
  "metadata": {
    "colab": {
      "name": "Untitled1.ipynb",
      "provenance": [],
      "authorship_tag": "ABX9TyNHG+rtA2pGQX8qeYk4UPWn",
      "include_colab_link": true
    },
    "kernelspec": {
      "name": "python3",
      "display_name": "Python 3"
    }
  },
  "cells": [
    {
      "cell_type": "markdown",
      "metadata": {
        "id": "view-in-github",
        "colab_type": "text"
      },
      "source": [
        "<a href=\"https://colab.research.google.com/github/newb-dev-1008/DSP-Python/blob/master/Circular%20Convolution%20and%20DFT%20Properties.ipynb\" target=\"_parent\"><img src=\"https://colab.research.google.com/assets/colab-badge.svg\" alt=\"Open In Colab\"/></a>"
      ]
    },
    {
      "cell_type": "code",
      "metadata": {
        "id": "AGTedWaNNj37",
        "colab_type": "code",
        "colab": {}
      },
      "source": [
        "import numpy as np\n",
        "import matplotlib.pyplot as plt\n",
        "\n",
        "def circular_ops(x, n, r, k):\n",
        "  if r == 0:\n",
        "    x = [x[i-k] for i in range(0, len(n))]\n",
        "  elif r == 1:\n",
        "    x = [x[-(i-k)] for i in range(0, len(n))]\n",
        "  return np.array(x)\n",
        "\n",
        "def zeroes(n):\n",
        "  a = [0 for i in range(0,n)]\n",
        "  return np.array(a)\n",
        "\n",
        "def concat(x,y):\n",
        "  b = []\n",
        "  for i in range(0, len(x)):\n",
        "    b.append(x[i])\n",
        "  for j in range(0, len(y)):\n",
        "    b.append(y[j])\n",
        "  return np.array(b)"
      ],
      "execution_count": 0,
      "outputs": []
    },
    {
      "cell_type": "code",
      "metadata": {
        "id": "qVn9jBwXn4xm",
        "colab_type": "code",
        "colab": {
          "base_uri": "https://localhost:8080/",
          "height": 804
        },
        "outputId": "f6e542e7-72af-4039-9957-a2d34923f5fa"
      },
      "source": [
        "n = np.arange(0, 8, 1)\n",
        "N = 8\n",
        "\n",
        "xu = [1,2,3,-2,6,4]\n",
        "x = concat(xu, zeroes(N-len(xu)))\n",
        "print(x)\n",
        "\n",
        "x_fold = circular_ops(x, n, 1, 0)\n",
        "print(x_fold)\n",
        "\n",
        "plt.figure(1, figsize = [10,5])\n",
        "plt.title('Given Signal with Zero Padding x[n]')\n",
        "plt.xlabel('n')\n",
        "plt.ylabel('x[n]')\n",
        "plt.grid()\n",
        "plt.stem(n, x)\n",
        "\n",
        "plt.figure(2, figsize = [10,5])\n",
        "plt.title('Circularly Folded Signal x[-n]')\n",
        "plt.xlabel('n')\n",
        "plt.ylabel('x[-n]')\n",
        "plt.grid()\n",
        "plt.stem(n,x_fold)"
      ],
      "execution_count": 9,
      "outputs": [
        {
          "output_type": "stream",
          "text": [
            "[ 1  2  3 -2  6  4  0  0]\n",
            "[ 1  0  0  4  6 -2  3  2]\n"
          ],
          "name": "stdout"
        },
        {
          "output_type": "stream",
          "text": [
            "/usr/local/lib/python3.6/dist-packages/ipykernel_launcher.py:16: UserWarning: In Matplotlib 3.3 individual lines on a stem plot will be added as a LineCollection instead of individual lines. This significantly improves the performance of a stem plot. To remove this warning and switch to the new behaviour, set the \"use_line_collection\" keyword argument to True.\n",
            "  app.launch_new_instance()\n",
            "/usr/local/lib/python3.6/dist-packages/ipykernel_launcher.py:23: UserWarning: In Matplotlib 3.3 individual lines on a stem plot will be added as a LineCollection instead of individual lines. This significantly improves the performance of a stem plot. To remove this warning and switch to the new behaviour, set the \"use_line_collection\" keyword argument to True.\n"
          ],
          "name": "stderr"
        },
        {
          "output_type": "execute_result",
          "data": {
            "text/plain": [
              "<StemContainer object of 3 artists>"
            ]
          },
          "metadata": {
            "tags": []
          },
          "execution_count": 9
        },
        {
          "output_type": "display_data",
          "data": {
            "image/png": "[encoded data removed]",
            "text/plain": [
              "<Figure size 720x360 with 1 Axes>"
            ]
          },
          "metadata": {
            "tags": []
          }
        },
        {
          "output_type": "display_data",
          "data": {
            "image/png": "[encoded data removed]",
            "text/plain": [
              "<Figure size 720x360 with 1 Axes>"
            ]
          },
          "metadata": {
            "tags": []
          }
        }
      ]
    },
    {
      "cell_type": "code",
      "metadata": {
        "id": "dDUMa_eKqJ7S",
        "colab_type": "code",
        "colab": {}
      },
      "source": [
        ""
      ],
      "execution_count": 0,
      "outputs": []
    }
  ]
}