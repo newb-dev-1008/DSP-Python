{
  "nbformat": 4,
  "nbformat_minor": 0,
  "metadata": {
    "colab": {
      "name": "Worksheet 7.ipynb",
      "provenance": [],
      "authorship_tag": "ABX9TyPdOrFSPsOFOOplGGx/GEdg",
      "include_colab_link": true
    },
    "kernelspec": {
      "name": "python3",
      "display_name": "Python 3"
    }
  },
  "cells": [
    {
      "cell_type": "markdown",
      "metadata": {
        "id": "view-in-github",
        "colab_type": "text"
      },
      "source": [
        "<a href=\"https://colab.research.google.com/github/newb-dev-1008/DSP-Python/blob/master/Worksheet%207.ipynb\" target=\"_parent\"><img src=\"https://colab.research.google.com/assets/colab-badge.svg\" alt=\"Open In Colab\"/></a>"
      ]
    },
    {
      "cell_type": "markdown",
      "metadata": {
        "id": "pZ5Vfd4IqYv9",
        "colab_type": "text"
      },
      "source": [
        "## **Designing a Digital Butterworth IIR low pass filter for the following specifications:**\n",
        "\n",
        "Passband edge frequency 400 Hz\n",
        "\n",
        "Stopband edge frequency 800 Hz\n",
        "\n",
        "Sampling frequency 2000 Hz.\n",
        "\n",
        "Stopband attenuation 30 dB\n",
        "\n",
        "Passband attenuation of 0.4 dB.\n",
        "\n",
        "And plotting the frequency response of the filter and designing high pass, band pass and band stop filters with appropriate specifications."
      ]
    },
    {
      "cell_type": "code",
      "metadata": {
        "id": "4qXax4ZQqXb-",
        "colab_type": "code",
        "colab": {}
      },
      "source": [
        "# Specifying the required frequencies and attenuations\n",
        "\n",
        "fp = 400              # Passband edge frequency\n",
        "fs = 800              # Stopband edge frequency\n",
        "\n",
        "fsamp = 2000          # Sampling frequency\n",
        "Ks = 30               # Stopband attenuation\n",
        "Kp = 0.4              # Passband attenuation"
      ],
      "execution_count": 1,
      "outputs": []
    },
    {
      "cell_type": "code",
      "metadata": {
        "id": "BeCb9QRKsW7Y",
        "colab_type": "code",
        "colab": {}
      },
      "source": [
        "# Frequency Response using inbuilt functions \n",
        "from scipy.signal import buttord, butter\n",
        "\n",
        "wp = 2 * (fp/ fsamp)  # Warped passband frequency\n",
        "ws = 2 * (fs/ fsamp)  # Warped stopband frequency\n",
        "\n",
        "[N, wc] = buttord(wp, ws, Kp, Ks)\n",
        "\n",
        "[b, a] = butter(N, wc, 'low')\n",
        "\n",
        "[b1, a1] = butter(N, [wp, ws], 'bandpass')"
      ],
      "execution_count": 3,
      "outputs": []
    },
    {
      "cell_type": "code",
      "metadata": {
        "id": "y3TgfojJuvYq",
        "colab_type": "code",
        "colab": {}
      },
      "source": [
        ""
      ],
      "execution_count": null,
      "outputs": []
    }
  ]
}