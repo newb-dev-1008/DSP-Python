{
 "cells": [
  {
   "cell_type": "code",
   "execution_count": null,
   "metadata": {
    "collapsed": false,
    "deletable": true,
    "editable": true
   },
   "outputs": [],
   "source": [
    "import matplotlib.pyplot as plt\n",
    "import numpy as np\n",
    "from math import *\n",
    "\n",
    "%matplotlib inline\n",
    "\n",
    "#Create an array of time axis values\n",
    "t = np.arange(-10.0, 10.0, 0.01)               \n",
    "\n",
    "#x(t)\n",
    "x = e ** -t\n",
    "\n",
    "#h(t) \n",
    "h = []\n",
    "i = 0\n",
    "while (i < len(t)):\n",
    "    if (t(i) == -2):\n",
    "        h.append(1)\n",
    "        i += 1\n",
    "    elif (t(i) == 2):\n",
    "        h.append(-1)\n",
    "        i += 1\n",
    "    else:\n",
    "        h.append(0)\n",
    "        i += 1\n",
    "print(h)\n",
    "#plt.plot(t,h)"
   ]
  },
  {
   "cell_type": "code",
   "execution_count": null,
   "metadata": {
    "collapsed": true,
    "deletable": true,
    "editable": true
   },
   "outputs": [],
   "source": []
  }
 ],
 "metadata": {
  "kernelspec": {
   "display_name": "Python 3",
   "language": "python",
   "name": "python3"
  },
  "language_info": {
   "codemirror_mode": {
    "name": "ipython",
    "version": 3
   },
   "file_extension": ".py",
   "mimetype": "text/x-python",
   "name": "python",
   "nbconvert_exporter": "python",
   "pygments_lexer": "ipython3",
   "version": "3.5.2"
  }
 },
 "nbformat": 4,
 "nbformat_minor": 2
}
